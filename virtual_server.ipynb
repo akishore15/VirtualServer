{
 "cells": [
  {
   "cell_type": "code",
   "execution_count": null,
   "metadata": {
    "vscode": {
     "languageId": "dockerfile"
    }
   },
   "outputs": [],
   "source": [
    "FROM dtcooper/raspberrypi-os:bookworm\n",
    "WORKDIR /raspbian\n",
    "RUN sudo apt install docker.io docker-compose -y\n",
    "RUN mkdir RaspbianServer\n",
    "RUN cd RaspbianServer\n",
    "RUN docker build -t raspberrypi .\n",
    "COPY . .\n",
    "EXPOSE 8085\n",
    "CMD [\"docker run -d -p 8085:8085 --name RaspbianServer dtcooper/raspberrypi-os:bookworm\"]"
   ]
  },
  {
   "cell_type": "code",
   "execution_count": null,
   "metadata": {
    "vscode": {
     "languageId": "csharp"
    }
   },
   "outputs": [],
   "source": [
    "using System;\n",
    "using Google.Authenticator;\n",
    "string key;\n",
    "TwoFactorAuthenticator tfa = new TwoFactorAuthenticator()\n",
    "Console.WriteLine(\"Enter username: \")\n",
    "username = Console.ReadLine()\n",
    "Code = tfa.GenerateSetupCode(\"TFA\", username, key, false, 3)\n",
    "string qrCodeImageUrl = Code.QrCodeSetupImageUrl;\n",
    "string manualEntrySetupCode = Code.ManualEntryKey;\n",
    "imgQrCode.ImageUrl = qrCodeImageUrl;\n",
    "lblManualSetupCode.Text = manualEntrySetupCode;\n",
    "TwoFactorAuthenticator tfa = new TwoFactorAuthenticator();\n",
    "bool result = tfa.ValidateTwoFactorPIN(key, txtCode.Text)"
   ]
  },
  {
   "cell_type": "code",
   "execution_count": null,
   "metadata": {},
   "outputs": [],
   "source": [
    "import requests\n",
    "import keys\n",
    "def detect():\n",
    "    ip_address = input(\": \")\n",
    "    api_key = \"9cc58240d4ff4c89a8b1d5154628f2a2\"\n",
    "    url = f\"https://vpnapi.io/api/{ip_address}?key={api_key}\"\n",
    "    res = requests.get(url)\n",
    "detect()"
   ]
  }
 ],
 "metadata": {
  "language_info": {
   "name": "python"
  }
 },
 "nbformat": 4,
 "nbformat_minor": 2
}
